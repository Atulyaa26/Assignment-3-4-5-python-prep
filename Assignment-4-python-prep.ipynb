{
 "cells": [
  {
   "cell_type": "code",
   "execution_count": 2,
   "id": "fb69589a",
   "metadata": {},
   "outputs": [
    {
     "name": "stdout",
     "output_type": "stream",
     "text": [
      "1 2 \n",
      "5 6\n",
      "6.00+8.00i\n",
      "-4.00-4.00i\n",
      "-7.00+16.00i\n",
      "0.28+0.07i\n",
      "2.24+0.00i\n",
      "7.81+0.00i\n"
     ]
    }
   ],
   "source": [
    "# Code 1 :- Dealinh with complex numbers\n",
    "\n",
    "import math\n",
    "class Complex(object):\n",
    "    def __init__(self, real, imaginary):\n",
    "        self.real = real\n",
    "        self.imaginary = imaginary\n",
    "        \n",
    "    def __add__(self, no):\n",
    "        return Complex(self.real + no.real , self.imaginary + no.imaginary)\n",
    "        \n",
    "    def __sub__(self, no):\n",
    "        return Complex(self.real - no.real , self.imaginary - no.imaginary)       \n",
    "        \n",
    "    def __mul__(self, no):\n",
    "        prod = complex(self.real , self.imaginary)*complex(no.real , no.imaginary)\n",
    "        return Complex(prod.real , prod.imag)\n",
    "\n",
    "    def __truediv__(self, no):\n",
    "        div = complex(self.real , self.imaginary)/complex(no.real , no.imaginary)\n",
    "        return Complex(div.real , div.imag)\n",
    "\n",
    "\n",
    "    def mod(self):\n",
    "        m = math.sqrt(self.real**2 + self.imaginary**2)\n",
    "        return Complex(m,0)\n",
    "\n",
    "    def __str__(self):\n",
    "        if self.imaginary == 0:\n",
    "            result = \"%.2f+0.00i\" % (self.real)\n",
    "        elif self.real == 0:\n",
    "            if self.imaginary >= 0:\n",
    "                result = \"0.00+%.2fi\" % (self.imaginary)\n",
    "            else:\n",
    "                result = \"0.00-%.2fi\" % (abs(self.imaginary))\n",
    "        elif self.imaginary > 0:\n",
    "            result = \"%.2f+%.2fi\" % (self.real, self.imaginary)\n",
    "        else:\n",
    "            result = \"%.2f-%.2fi\" % (self.real, abs(self.imaginary))\n",
    "        return result\n",
    "\n",
    "\n",
    "if __name__ == '__main__':\n",
    "    c = map(float, input().split())\n",
    "    d = map(float, input().split())\n",
    "    x = Complex(*c)\n",
    "    y = Complex(*d)\n",
    "    print(*map(str, [x+y, x-y, x*y, x/y, x.mod(), y.mod()]), sep='\\n')"
   ]
  },
  {
   "cell_type": "code",
   "execution_count": 3,
   "id": "e5f97468",
   "metadata": {},
   "outputs": [
    {
     "name": "stdout",
     "output_type": "stream",
     "text": [
      "0 4 5\n",
      "1 7 6\n",
      "0 5 9\n",
      "1 7 2\n",
      "8.19\n"
     ]
    }
   ],
   "source": [
    "# Code 2 :- Tortional angle:\n",
    "\n",
    "import math\n",
    "\n",
    "class Points(object):\n",
    "    \n",
    "        def __init__(self, x, y, z):\n",
    "            self.x = x\n",
    "            self.y = y\n",
    "            self.z = z\n",
    "    \n",
    "        def __sub__(self, no):\n",
    "            x = self.x - no.x\n",
    "            y = self.y - no.y\n",
    "            z = self.z - no.z\n",
    "            return Points(x, y, z)\n",
    "    \n",
    "        def dot(self, no):\n",
    "            x = self.x * no.x\n",
    "            y = self.y * no.y\n",
    "            z = self.z * no.z\n",
    "            return x + y + z\n",
    "    \n",
    "        def cross(self, no):\n",
    "            x = self.y * no.z - self.z * no.y\n",
    "            y = self.z * no.x - self.x * no.z\n",
    "            z = self.x * no.y - self.y * no.x\n",
    "            return Points(x, y, z)\n",
    "    \n",
    " \n",
    "        \n",
    "        def absolute(self):\n",
    "            return pow((self.x ** 2 + self.y ** 2 + self.z ** 2), 0.5)\n",
    "    \n",
    "    \n",
    "    \n",
    "if __name__ == '__main__':\n",
    "    points = list()\n",
    "    for i in range(4):\n",
    "        a = list(map(float, input().split()))\n",
    "        points.append(a)\n",
    "\n",
    "    a, b, c, d = Points(*points[0]), Points(*points[1]), Points(*points[2]), Points(*points[3])\n",
    "    x = (b - a).cross(c - b)\n",
    "    y = (c - b).cross(d - c)\n",
    "    angle = math.acos(x.dot(y) / (x.absolute() * y.absolute()))\n",
    "\n",
    "    print(\"%.2f\" % math.degrees(angle))"
   ]
  },
  {
   "cell_type": "code",
   "execution_count": null,
   "id": "d4acb3e7",
   "metadata": {},
   "outputs": [],
   "source": []
  }
 ],
 "metadata": {
  "kernelspec": {
   "display_name": "Python 3 (ipykernel)",
   "language": "python",
   "name": "python3"
  },
  "language_info": {
   "codemirror_mode": {
    "name": "ipython",
    "version": 3
   },
   "file_extension": ".py",
   "mimetype": "text/x-python",
   "name": "python",
   "nbconvert_exporter": "python",
   "pygments_lexer": "ipython3",
   "version": "3.10.9"
  }
 },
 "nbformat": 4,
 "nbformat_minor": 5
}
